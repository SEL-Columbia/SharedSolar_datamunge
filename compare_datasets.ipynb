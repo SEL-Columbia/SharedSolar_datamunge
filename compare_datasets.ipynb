{
 "metadata": {
  "name": "compare_datasets"
 },
 "nbformat": 3,
 "nbformat_minor": 0,
 "worksheets": [
  {
   "cells": [
    {
     "cell_type": "heading",
     "level": 1,
     "metadata": {},
     "source": [
      "Comparing UG Data Before and After Update: Mitchell Lee"
     ]
    },
    {
     "cell_type": "code",
     "collapsed": false,
     "input": [
      "from pandas import *\n",
      "import numpy as np\n",
      "import re\n",
      "import matplotlib\n",
      "import matplotlib.pyplot as plt\n",
      "import dateutil.parser as dp"
     ],
     "language": "python",
     "metadata": {},
     "outputs": [],
     "prompt_number": 3
    },
    {
     "cell_type": "code",
     "collapsed": false,
     "input": [
      "#cd \"C:/Users/Mitchell/Documents/Shared_Solar/Shared_Solar_database\""
     ],
     "language": "python",
     "metadata": {},
     "outputs": [],
     "prompt_number": 4
    },
    {
     "cell_type": "heading",
     "level": 2,
     "metadata": {},
     "source": [
      "Import dataset 1"
     ]
    },
    {
     "cell_type": "code",
     "collapsed": false,
     "input": [
      "demdata = read_csv('allmetersdemandarray.csv', delimiter=',',index_col =0,parse_dates = True)\n",
      "# If the hourly demand is greater than 1000 Wh replace with nan\n",
      "demdata[demdata >= 1000] = np.nan\n",
      "demdatacum = read_csv('allmeterscumdemandarray.csv', delimiter=',',index_col =0,parse_dates = True)\n",
      "creddata  = read_csv('allmeterscreditarray.csv', delimiter=',',index_col =0,parse_dates = True)\n",
      "circlist = demdata.columns.tolist()\n",
      "datelist_hr = demdata.index.tolist()\n",
      "r, c = np.shape(demdata)\n",
      "#Separate ML (dataset 1)\n",
      "\n",
      "ml = []\n",
      "ug1 = []\n",
      "for ix in range(0,c):\n",
      "\tn = demdata.columns[ix][0]\n",
      "\tif n == 'm':\n",
      "\t\tml.append(demdata.columns[ix])\n",
      "\telse:\n",
      "\t\tug1.append(demdata.columns[ix])\n",
      "\t\n",
      "#  Create list of Mains names and Circuit Names\n",
      "\n",
      "ml_mains = []\n",
      "ml_circuits = []\n",
      "for ix, row in enumerate(ml):\n",
      "    n = int(row.split('_')[1])\n",
      "    if n == 0:\n",
      "        ml_mains.append(ml[ix])\n",
      "    else:\n",
      "        ml_circuits.append(ml[ix])"
     ],
     "language": "python",
     "metadata": {},
     "outputs": [],
     "prompt_number": 5
    },
    {
     "cell_type": "code",
     "collapsed": false,
     "input": [
      "# Convert to Daily Resolution \n",
      "\n",
      "# Sum across hours to make daily resolution \n",
      "demdata_day = demdata.resample('D', how='sum')\n",
      "mainsdf_day = demdata[ml_mains].resample('D', how='sum')\n",
      "circuitsdf_day = demdata[ml_circuits].resample('D', how='sum')\n",
      "datelist_day = demdata_day.index.tolist()\n",
      "# Convert to Monthly Resolution\n",
      "\n",
      "# Use Daily Average Energy \n",
      "demdata_month = demdata_day.resample('M', how='mean')\n",
      "mainsdf_month = mainsdf_day.resample('M', how='mean')\n",
      "circuitsdf_month= circuitsdf_day.resample('M', how='mean')\n",
      "datelist_month = demdata_day.index.tolist()"
     ],
     "language": "python",
     "metadata": {},
     "outputs": [],
     "prompt_number": 6
    },
    {
     "cell_type": "heading",
     "level": 2,
     "metadata": {},
     "source": [
      "Import dataset 2"
     ]
    },
    {
     "cell_type": "code",
     "collapsed": false,
     "input": [
      "demdata2 = read_csv('allmetersdemandarray2.csv', delimiter=',',index_col =0,parse_dates = True)\n",
      "# If the hourly demand is greater than 1000 Wh replace with nan\n",
      "demdata2[demdata2 >= 1000] = np.nan\n",
      "demdatacum2 = read_csv('allmeterscumdemandarray2.csv', delimiter=',',index_col =0,parse_dates = True)\n",
      "creddata2  = read_csv('allmeterscreditarray2.csv', delimiter=',',index_col =0,parse_dates = True)\n",
      "circlist2 = demdata2.columns.tolist()\n",
      "datelist2_hr = demdata2.index.tolist()\n",
      "r2, c2 = np.shape(demdata2)\n",
      "\n",
      "ug2 = []\n",
      "for ix in range(0,c2):\n",
      "    n = demdata2.columns[ix][0]\n",
      "    if n == 'u':\n",
      "        ug2.append(demdata2.columns[ix])\n",
      "\n",
      "ug2_mains = []\n",
      "ug2_circuits = []\n",
      "for ix, row in enumerate(ug2):\n",
      "    n = int(row.split('_')[1])\n",
      "    if n == 0:\n",
      "        ug2_mains.append(ug2[ix])\n",
      "    else:\n",
      "        ug2_circuits.append(ug2[ix])"
     ],
     "language": "python",
     "metadata": {},
     "outputs": [],
     "prompt_number": 7
    },
    {
     "cell_type": "code",
     "collapsed": false,
     "input": [
      "# Convert to Daily Resolution \n",
      "\n",
      "# Sum across hours to make daily resolution \n",
      "demdata2_day = demdata2.resample('D', how='sum')\n",
      "mainsdf2_day = demdata2[ug2_mains].resample('D', how='sum')\n",
      "circuitsdf2_day = demdata2[ug2_circuits].resample('D', how='sum')\n",
      "datelist2_day = demdata2_day.index.tolist()\n",
      "# Convert to Monthly Resolution\n",
      "\n",
      "# Use Daily Average Energy \n",
      "demdata2_month = demdata2_day.resample('M', how='mean')\n",
      "mainsdf2_month = mainsdf2_day.resample('M', how='mean')\n",
      "circuitsdf2_month= circuitsdf2_day.resample('M', how='mean')\n",
      "datelist2_month = demdata2_day.index.tolist()"
     ],
     "language": "python",
     "metadata": {},
     "outputs": [],
     "prompt_number": 8
    },
    {
     "cell_type": "heading",
     "level": 2,
     "metadata": {},
     "source": [
      "Import dataset 3 (1 and 2 merged)"
     ]
    },
    {
     "cell_type": "code",
     "collapsed": false,
     "input": [
      "demdatam = read_csv('allmetersdemandarray_merged.csv', delimiter=',',index_col =0,parse_dates = True)\n",
      "# If the hourly demand is greater than 1000 Wh replace with nan\n",
      "demdatam[demdatam >= 1000] = np.nan\n",
      "creddatam = read_csv('allmeterscreditarray_merged.csv', delimiter=',',index_col =0,parse_dates = True)\n",
      "circlistm = demdatam.columns.tolist()\n",
      "datelistm_hr = demdatam.index.tolist()\n",
      "rm, cm = np.shape(demdatam)\n",
      "\n",
      "ugm = []\n",
      "for ix in range(0,cm):\n",
      "    n = demdatam.columns[ix][0]\n",
      "    if n == 'u':\n",
      "        ugm.append(demdatam.columns[ix])\n",
      "\n",
      "ugm_mains = []\n",
      "ugm_circuits = []\n",
      "for ix, row in enumerate(ugm):\n",
      "    n = int(row.split('_')[1])\n",
      "    if n == 0:\n",
      "        ugm_mains.append(ugm[ix])\n",
      "    else:\n",
      "        ugm_circuits.append(ugm[ix])"
     ],
     "language": "python",
     "metadata": {},
     "outputs": [],
     "prompt_number": 9
    },
    {
     "cell_type": "code",
     "collapsed": false,
     "input": [
      "# Convert to Daily Resolution \n",
      "\n",
      "# Sum across hours to make daily resolution \n",
      "demdatam_day = demdatam.resample('D', how='sum')\n",
      "mainsdfm_day = demdatam[ugm_mains].resample('D', how='sum')\n",
      "circuitsdfm_day = demdatam[ugm_circuits].resample('D', how='sum')\n",
      "datelistm_day = demdatam_day.index.tolist()\n",
      "# Convert to Monthly Resolution\n",
      "\n",
      "# Use Daily Average Energy \n",
      "demdatam_month = demdatam_day.resample('M', how='mean')\n",
      "mainsdfm_month = mainsdfm_day.resample('M', how='mean')\n",
      "circuitsdfm_month= circuitsdfm_day.resample('M', how='mean')\n",
      "datelistm_month = demdatam_day.index.tolist()"
     ],
     "language": "python",
     "metadata": {},
     "outputs": [],
     "prompt_number": 10
    },
    {
     "cell_type": "heading",
     "level": 2,
     "metadata": {},
     "source": [
      "Data avaiability plot (Set 1)"
     ]
    },
    {
     "cell_type": "code",
     "collapsed": false,
     "input": [
      "\n",
      "fig = plt.figure()\n",
      "densityplot = fig.add_subplot(1,1,1)\n",
      "#densityplot.spy(demdata[ml].ix[demdata[ml].index[0]:demdata[ml].index[-1]], aspect = 'auto')\n",
      "densityplot.spy(demdata[ug1].ix[demdata[ug1].index[8760]:demdata[ug1].index[-1]], aspect = 'auto')\n",
      "#densityplot.set_xticks(range(0,np.shape(demdata[ml].columns)[0]))\n",
      "densityplot.set_xticks(range(0,np.shape(demdata[ug1].columns)[0]))\n",
      "#densityplot.set_xticklabels(ml)\n",
      "densityplot.set_xticklabels(ug1)\n",
      "#densityplot.set_yticks(range(0,r,750))\n",
      "densityplot.set_yticks(range(0,r2,750))\n",
      "\n",
      "densityplot.set_yticklabels(datelist2_hr[0:r2:750])\n",
      "densityplot.set_xlabel('Mains and Circuits')\n",
      "densityplot.set_ylabel('Date and Time')\n",
      "densityplot.set_title('Data Availablity at Hourly Resolution (Set 1)')\n",
      "plt.show()"
     ],
     "language": "python",
     "metadata": {},
     "outputs": [],
     "prompt_number": 11
    },
    {
     "cell_type": "heading",
     "level": 2,
     "metadata": {},
     "source": [
      "Data avaiability plot (Set 2)"
     ]
    },
    {
     "cell_type": "code",
     "collapsed": false,
     "input": [
      "fig = plt.figure()\n",
      "densityplot = fig.add_subplot(1,1,1)\n",
      "densityplot.spy(demdata2, aspect = 'auto')\n",
      "densityplot.set_xticks(range(0,np.shape(ug2)[0]))\n",
      "densityplot.set_xticklabels(demdata2.columns)\n",
      "densityplot.set_yticks(range(0,r2,168))\n",
      "densityplot.set_yticklabels(datelist2_hr[0:r:168])\n",
      "densityplot.set_xlabel('Mains and Circuits')\n",
      "densityplot.set_ylabel('Date and Time')\n",
      "densityplot.set_title('Data Availablity at Hourly Resolution (Set 2)')\n",
      "plt.show()"
     ],
     "language": "python",
     "metadata": {},
     "outputs": [],
     "prompt_number": 12
    },
    {
     "cell_type": "heading",
     "level": 2,
     "metadata": {},
     "source": [
      "Data avaiability plot Uganda Merged (Set 3)"
     ]
    },
    {
     "cell_type": "code",
     "collapsed": false,
     "input": [
      "fig = plt.figure()\n",
      "densityplot = fig.add_subplot(1,1,1)\n",
      "densityplot.spy(demdatam, aspect = 'auto')\n",
      "densityplot.set_xticks(range(0,np.shape(ugm)[0]))\n",
      "densityplot.set_xticklabels(demdatam.columns)\n",
      "densityplot.set_yticks(range(0,rm,24))\n",
      "densityplot.set_yticklabels(datelistm_hr[0:r:24])\n",
      "densityplot.set_xlabel('Mains and Circuits')\n",
      "densityplot.set_ylabel('Date and Time')\n",
      "densityplot.set_title('Data Availablity at Hourly Resolution (Merged)')\n",
      "plt.show()\n"
     ],
     "language": "python",
     "metadata": {},
     "outputs": [],
     "prompt_number": 30
    },
    {
     "cell_type": "heading",
     "level": 2,
     "metadata": {},
     "source": [
      "Monthly Data Availability Maps"
     ]
    },
    {
     "cell_type": "code",
     "collapsed": false,
     "input": [
      "# Mali Mains\n",
      "mdateaxis = []\n",
      "for ix, name in enumerate(circuitsdf_month.index):\n",
      "    mdateaxis.append(name.strftime(\"%m-%Y\"))\n",
      "\n",
      "\n",
      "fig = plt.figure()\n",
      "densityplot = fig.add_subplot(1,1,1)\n",
      "densityplot.grid(True)\n",
      "densityplot.spy(mainsdf_month, aspect = 'auto')\n",
      "densityplot.set_xticks(range(0,np.shape(mainsdf_month.columns)[0]))\n",
      "densityplot.set_xticklabels(mainsdf_month.columns)\n",
      "densityplot.set_yticks(range(0,np.shape(mainsdf_month.index)[0]))\n",
      "densityplot.set_yticklabels(mdateaxis)\n",
      "densityplot.plot()\n",
      "\n",
      "# Mali Circuits (Part 1)\n",
      "fig = plt.figure()\n",
      "densityplot = fig.add_subplot(1,1,1)\n",
      "densityplot.grid(True)\n",
      "densityplot.spy(circuitsdf_month[ml_circuits[12:92]], aspect = 'auto')\n",
      "densityplot.set_xticks(range(0,np.shape(ml_circuits[12:92])[0]))\n",
      "densityplot.set_xticklabels(ml_circuits[12:92],rotation = 'vertical')\n",
      "densityplot.tick_params(axis='x', which='major', labelsize=12)\n",
      "densityplot.set_yticks(range(0,np.shape(circuitsdf_month.index)[0]))\n",
      "densityplot.set_yticklabels(mdateaxis)\n",
      "densityplot.plot()\n",
      "\n",
      "\n",
      "# Mali Circuits (Part 2)\n",
      "fig = plt.figure()\n",
      "densityplot = fig.add_subplot(1,1,1)\n",
      "densityplot.grid(True)\n",
      "densityplot.spy(circuitsdf_month[ml_circuits[92:]], aspect = 'auto')\n",
      "densityplot.set_xticks(range(0,np.shape(ml_circuits[92:])[0]))\n",
      "densityplot.set_xticklabels(ml_circuits[92:],rotation = 'vertical')\n",
      "densityplot.tick_params(axis='x', which='major', labelsize=12)\n",
      "densityplot.set_yticks(range(0,np.shape(circuitsdf_month.index)[0]))\n",
      "densityplot.set_yticklabels(mdateaxis)\n",
      "densityplot.plot()\n",
      "\n",
      "\n",
      "# Uganda Mains\n",
      "\n",
      "udateaxis = []\n",
      "for ix, name in enumerate(circuitsdfm_month.index):\n",
      "    udateaxis.append(name.strftime(\"%m-%Y\"))\n",
      "\n",
      "\n",
      "fig = plt.figure()\n",
      "densityplot = fig.add_subplot(1,1,1)\n",
      "densityplot.grid(True)\n",
      "densityplot.spy(mainsdfm_month, aspect = 'auto')\n",
      "densityplot.set_xticks(range(0,np.shape(mainsdfm_month.columns)[0]))\n",
      "densityplot.set_xticklabels(mainsdfm_month.columns)\n",
      "densityplot.set_yticks(range(0,np.shape(mainsdfm_month.index)[0]))\n",
      "densityplot.set_yticklabels(udateaxis)\n",
      "densityplot.plot()\n",
      "\n",
      "# Uganda Circuits\n",
      "fig = plt.figure()\n",
      "densityplot = fig.add_subplot(1,1,1)\n",
      "densityplot.grid(True)\n",
      "densityplot.spy(circuitsdfm_month, aspect = 'auto')\n",
      "densityplot.set_xticks(range(0,np.shape(circuitsdfm_month.columns)[0]))\n",
      "densityplot.set_xticklabels(circuitsdfm_month.columns,rotation='vertical')\n",
      "densityplot.set_yticks(range(0,np.shape(circuitsdfm_month.index)[0]))\n",
      "densityplot.set_yticklabels(udateaxis)\n",
      "densityplot.plot()\n",
      "\n"
     ],
     "language": "python",
     "metadata": {},
     "outputs": [
      {
       "output_type": "pyout",
       "prompt_number": 80,
       "text": [
        "[]"
       ]
      }
     ],
     "prompt_number": 80
    }
   ],
   "metadata": {}
  }
 ]
}